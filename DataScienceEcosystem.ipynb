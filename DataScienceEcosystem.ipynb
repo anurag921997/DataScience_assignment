{
 "cells": [
  {
   "cell_type": "markdown",
   "id": "3a7fb672",
   "metadata": {},
   "source": [
    "# Data Science Tools and Ecosystem"
   ]
  },
  {
   "cell_type": "markdown",
   "id": "305e96d8",
   "metadata": {},
   "source": [
    "In this notebook, Data Science Tools and Ecosystem are summarized."
   ]
  },
  {
   "cell_type": "markdown",
   "id": "48dac7ba",
   "metadata": {},
   "source": [
    "** Objectives **\n",
    "\n",
    "# List popular languages for Data Science\n",
    "- Python\n",
    "\n",
    "* R\n",
    "\n",
    "+ SQL\n",
    "\n",
    "+ Java\n"
   ]
  },
  {
   "cell_type": "markdown",
   "id": "251a9326",
   "metadata": {},
   "source": [
    "# Some of the popular languages that Data Scientists use are:\n",
    "1. Python\n",
    "2. Java\n",
    "3. C\n",
    "4. C++"
   ]
  },
  {
   "cell_type": "markdown",
   "id": "5c9cd992",
   "metadata": {},
   "source": [
    "## Some of the commonly used libraries used by Data Scientists include:\n",
    "1. NumPy\n",
    "2. TensorFlow\n",
    "3. PyTorch\n",
    "4. SciPy\n"
   ]
  },
  {
   "cell_type": "markdown",
   "id": "43c4f700",
   "metadata": {},
   "source": [
    "## Table of Data Science tools\n",
    "|Data Science Tools| \n",
    "| ------ |\n",
    "| TensorFlow |\n",
    "|Apache Spark |\n",
    "| Rstudio |"
   ]
  },
  {
   "cell_type": "markdown",
   "id": "16500471",
   "metadata": {},
   "source": [
    "### Below are a few examples of evaluating arithmetic expressions in Python\n"
   ]
  },
  {
   "cell_type": "code",
   "execution_count": 13,
   "id": "bcf485ed",
   "metadata": {},
   "outputs": [
    {
     "data": {
      "text/plain": [
       "3.3333333333333335"
      ]
     },
     "execution_count": 13,
     "metadata": {},
     "output_type": "execute_result"
    }
   ],
   "source": [
    "#This will convert 200 minutes to hours by diving by 60\n",
    "minutes=200\n",
    "hours=200/60\n",
    "hours"
   ]
  },
  {
   "cell_type": "code",
   "execution_count": 14,
   "id": "33229e1e",
   "metadata": {},
   "outputs": [
    {
     "data": {
      "text/plain": [
       "17"
      ]
     },
     "execution_count": 14,
     "metadata": {},
     "output_type": "execute_result"
    }
   ],
   "source": [
    "#This a simple arithmetic expression to mutiply then add integers\n",
    "(3*4)+5"
   ]
  },
  {
   "cell_type": "markdown",
   "id": "deed43b8",
   "metadata": {},
   "source": [
    "## Author name\n",
    "Anurag"
   ]
  },
  {
   "cell_type": "code",
   "execution_count": null,
   "id": "a4b29bc4",
   "metadata": {},
   "outputs": [],
   "source": []
  }
 ],
 "metadata": {
  "kernelspec": {
   "display_name": "Python 3 (ipykernel)",
   "language": "python",
   "name": "python3"
  },
  "language_info": {
   "codemirror_mode": {
    "name": "ipython",
    "version": 3
   },
   "file_extension": ".py",
   "mimetype": "text/x-python",
   "name": "python",
   "nbconvert_exporter": "python",
   "pygments_lexer": "ipython3",
   "version": "3.9.12"
  }
 },
 "nbformat": 4,
 "nbformat_minor": 5
}
